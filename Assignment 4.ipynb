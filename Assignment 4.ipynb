{
 "cells": [
  {
   "cell_type": "markdown",
   "metadata": {},
   "source": [
    "# Foundations of Data Mining: Assignment 4\n",
    "\n",
    "Please complete all assignments in this notebook. You should submit this notebook, as well as a PDF version (See File > Download as).\n",
    "\n",
    "**Deadline:** Thursday, April 12, 2018"
   ]
  },
  {
   "cell_type": "code",
   "execution_count": 4,
   "metadata": {
    "collapsed": true
   },
   "outputs": [],
   "source": [
    "# Please fill in your names here\n",
    "NAME_STUDENT_1 = \"Koen Klaren\"\n",
    "NAME_STUDENT_2 = \"Jan Blans\""
   ]
  },
  {
   "cell_type": "code",
   "execution_count": 5,
   "metadata": {
    "collapsed": true
   },
   "outputs": [],
   "source": [
    "%matplotlib inline\n",
    "from preamble import *\n",
    "plt.rcParams['savefig.dpi'] = 100 # This controls the size of your figures\n",
    "# Comment out and restart notebook if you only want the last output of each cell.\n",
    "InteractiveShell.ast_node_interactivity = \"all\""
   ]
  },
  {
   "cell_type": "markdown",
   "metadata": {},
   "source": [
    "###### Backpropagation (6 points)\n",
    "\n",
    "Figure 1 illustrates a simple neural network model.\n",
    "\n",
    "![Figure 1](images/a4_network.png)\n",
    "\n",
    "It has single input $x$, and three layers with respectively one, two, and one neurons. The activation function of the neurons is ReLU. \n",
    "\n",
    "The parameters $w_1$, $w_2$, $w_3$, $w_4$, and $w_5$ (no biases) are initialized to the following values $w_1 = 2, w_2 = 1$, $w_3 = 2$, $w_4 = 4$, and $w_5 = 1$. Implement a single update step of the gradient descent algorithm by hand. Run the update state for the data point $(x=2, y=3)$:\n",
    "\n",
    "The goal is to model the relationship between two continuous variables. The learning rate is set to $0.1$\n",
    "\n",
    "Provide the solution in the following format:\n",
    "\n",
    "- A choice for a loss function \n",
    "- Compute graph for training the neural network\n",
    "- Partial derivative expression for each of the parameters in the model\n",
    "- The update expression for each of the parameters for each of the data-points\n",
    "- The final value of all five parameters after the single step in the gradient descent algorithm\n",
    "\n",
    "The Python code for simple computational graph nodes, as seen in the tutorial session, is provided in the cell below (run the cell to load the code, and again to run the code). Extend the nodes so they can be used to implement the network described above. Implement the network with the same initial weights and the correct learning rate, and verify your hand-made calculations. Add comments to your code or provide a separate description to explain the changes you have made."
   ]
  },
  {
   "cell_type": "code",
   "execution_count": 33,
   "metadata": {
    "scrolled": false
   },
   "outputs": [
    {
     "data": {
      "text/plain": [
       "'\\nImplementations of nodes for a computation graph. Each node\\nhas a forward pass and a backward pass function, allowing\\nfor the evaluation and backpropagation of data.\\n'"
      ]
     },
     "execution_count": 33,
     "metadata": {},
     "output_type": "execute_result"
    },
    {
     "name": "stdout",
     "output_type": "stream",
     "text": [
      "Loaded simple graph nodes\n"
     ]
    },
    {
     "data": {
      "text/plain": [
       "220.5"
      ]
     },
     "execution_count": 33,
     "metadata": {},
     "output_type": "execute_result"
    },
    {
     "name": "stdout",
     "output_type": "stream",
     "text": [
      "Initial prediction is 24\n",
      "w1: [-23.200000000000003]\n",
      "w2: [-32.6]\n",
      "w3: [-6.4]\n",
      "w4, w5: [-4.4, -15.8]\n"
     ]
    }
   ],
   "source": [
    "# %load basic_graph.py\n",
    "'''\n",
    "Implementations of nodes for a computation graph. Each node\n",
    "has a forward pass and a backward pass function, allowing\n",
    "for the evaluation and backpropagation of data.\n",
    "'''\n",
    "\n",
    "from abc import ABC, abstractmethod\n",
    "import math\n",
    "import time\n",
    "\n",
    "\n",
    "class Node(object):\n",
    "\n",
    "    def __init__(self, inputs):\n",
    "        self.inputs = inputs\n",
    "\n",
    "    @abstractmethod\n",
    "    def forward(self):\n",
    "        ''' Feed-forward the result '''\n",
    "        raise NotImplementedError(\"Missing forward-propagation method.\")\n",
    "\n",
    "    @abstractmethod\n",
    "    def backward(self, d):\n",
    "        ''' Back-propagate the error\n",
    "            d is the delta of the subsequent node in the network '''\n",
    "        raise NotImplementedError(\"Missing back-propagation method.\")\n",
    "\n",
    "\n",
    "class ConstantNode(Node):\n",
    "\n",
    "    def __init__(self, value):\n",
    "        self.output = value\n",
    "\n",
    "    def forward(self):\n",
    "        return self.output\n",
    "\n",
    "    def backward(self, d):\n",
    "        pass\n",
    "\n",
    "\n",
    "class VariableNode(Node):\n",
    "\n",
    "    def __init__(self, value):\n",
    "        self.output = value\n",
    "\n",
    "    def forward(self):\n",
    "        return self.output\n",
    "\n",
    "    def backward(self, d):\n",
    "        self.output -= 0.1 * d # Gradient Descent\n",
    "\n",
    "\n",
    "class AdditionNode(Node):\n",
    "\n",
    "    def forward(self):\n",
    "        self.output = sum([i.forward() for i in self.inputs])\n",
    "        return self.output\n",
    "\n",
    "    def backward(self, d):\n",
    "        for i in self.inputs:\n",
    "            i.backward(d)\n",
    "\n",
    "\n",
    "class MultiplicationNode(Node):\n",
    "\n",
    "    def forward(self):\n",
    "        self.output = self.inputs[0].forward() * self.inputs[1].forward()\n",
    "        return self.output\n",
    "\n",
    "    def backward(self, d):\n",
    "        self.inputs[0].backward(d * self.inputs[1].output)\n",
    "        self.inputs[1].backward(d * self.inputs[0].output)\n",
    "\n",
    "\n",
    "class MSENode(Node):\n",
    "\n",
    "    def forward(self):\n",
    "        self.output = 0.5 * (\n",
    "            self.inputs[0].forward() - self.inputs[1].forward())**2\n",
    "        return self.output\n",
    "\n",
    "    def backward(self, d):\n",
    "        self.inputs[0].backward(d * (self.inputs[0].output - self.inputs[1].output))\n",
    "        self.inputs[1].backward(d * (self.inputs[1].output - self.inputs[0].output))\n",
    "\n",
    "\n",
    "class SigmoidNode(Node):\n",
    "\n",
    "    def forward(self):\n",
    "        self.output = 1.0 / (1.0 + math.exp(-self.inputs[0].forward()))\n",
    "        return self.output\n",
    "\n",
    "    def backward(self, d):\n",
    "        self.inputs[0].backward(d * self.output * (1.0 - self.output))\n",
    "\n",
    "        \n",
    "# Implement the ReLU activation function\n",
    "class ReLUNode(Node):\n",
    "\n",
    "    def forward(self):\n",
    "        self.output = max(self.inputs[0].forward(), 0)\n",
    "        return self.output\n",
    "\n",
    "    def backward(self, d):\n",
    "        if (self.output >= 0):\n",
    "            self.inputs[0].backward(d)\n",
    "        else:\n",
    "             # Because derivative is not defined, 0 is passed\n",
    "            self.inputs[0].backward(0)\n",
    "\n",
    "class TanhNode(object):\n",
    "\n",
    "    def forward(self):\n",
    "        raise NotImplementedError(\"Forward pass for tanh activation node has not been implemented yet.\")\n",
    "\n",
    "    def backward(self, d):\n",
    "        raise NotImplementedError(\"Backward pass for tanh activation node has not been implemented yet.\")\n",
    "\n",
    "# Example graph as shown in MLP lecture slides\n",
    "# class SampleGraph(object):\n",
    "\n",
    "#     def __init__(self, x, y, w, b):\n",
    "#         ''' x: input\n",
    "#             y: expected output\n",
    "#             w: initial weight\n",
    "#             b: initial bias '''\n",
    "#         self.w = VariableNode(w)\n",
    "#         self.b = VariableNode(b)\n",
    "#         self.graph = MSENode([\n",
    "#             AdditionNode([\n",
    "#                 MultiplicationNode([\n",
    "#                     ConstantNode(x),\n",
    "#                     self.w\n",
    "#                 ]),\n",
    "#                 MultiplicationNode([\n",
    "#                     self.b,\n",
    "#                     ConstantNode(1)\n",
    "#                 ])\n",
    "#             ]),\n",
    "#             ConstantNode(y)\n",
    "#         ])\n",
    "\n",
    "#     def forward(self):\n",
    "#         return self.graph.forward()\n",
    "\n",
    "#     def backward(self, d):\n",
    "#         self.graph.backward(d)\n",
    "\n",
    "class AssignmentGraph(object):\n",
    "\n",
    "    def __init__(self, x, y, w1, w2, w3, w4, w5):\n",
    "        self.n1 = Neuron([ConstantNode(x)], [w1], 'relu')\n",
    "        self.n2 = Neuron([self.n1], [w2], 'relu')\n",
    "        self.n3 = Neuron([self.n1], [w3], 'relu')\n",
    "        self.n4 = Neuron([self.n2, self.n3], [w4, w5], 'relu')\n",
    "        \n",
    "        self.out = self.n4\n",
    "        self.graph = MSENode([\n",
    "            self.out,\n",
    "            ConstantNode(y)\n",
    "        ])\n",
    "\n",
    "    def forward(self):\n",
    "        return self.graph.forward()\n",
    "\n",
    "    def backward(self, d):\n",
    "        self.graph.backward(d)\n",
    "\n",
    "\n",
    "class Neuron(Node):\n",
    "\n",
    "    def __init__(self, inputs, weights, activation):\n",
    "        ''' weights: list of initial weights, same length as inputs '''\n",
    "        self.inputs = inputs\n",
    "        # Initialize a weight for each input\n",
    "        self.weights = [VariableNode(weight) for weight in weights]\n",
    "        # Neurons normally have a bias, ignore for this assignment\n",
    "        #self.bias = VariableNode(bias, \"b\")\n",
    "\n",
    "        # Multiplication node for each pair of inputs and weights\n",
    "        mults = [MultiplicationNode([i, w]) for i, w, in zip(self.inputs, self.weights)]\n",
    "        # Neurons normally have a bias, ignore for this assignment\n",
    "        #mults.append(MultiplicationNode([self.bias, ConstantNode(1)]))\n",
    "\n",
    "        # Sum all multiplication results\n",
    "        added = AdditionNode(mults)\n",
    "\n",
    "        # Apply activation function\n",
    "        if activation == 'sigmoid':\n",
    "            self.graph = SigmoidNode([added])\n",
    "        elif activation == 'relu':\n",
    "            self.graph = ReLUNode([added])\n",
    "        elif activation == 'tanh':\n",
    "            self.graph = TanhNode([added])\n",
    "        else:\n",
    "            raise ValueError(\"Unknown activation function.\")\n",
    "\n",
    "    def forward(self):\n",
    "        self.output = self.graph.forward()\n",
    "        return self.output\n",
    "\n",
    "    def backward(self, d):\n",
    "        self.graph.backward(d)\n",
    "\n",
    "    def set_weights(self, new_weights):\n",
    "        for i in len(new_weights):\n",
    "            self.weights[i].output = new_weights[i]\n",
    "\n",
    "    def get_weights(self):\n",
    "        return [weight.output for weight in self.weights]\n",
    "\n",
    "if __name__ == '__main__':\n",
    "    print(\"Loaded simple graph nodes\")\n",
    "    \n",
    "    ag = AssignmentGraph(x=2, y=3, w1=2, w2=1, w3=2, w4=4, w5=1)\n",
    "    ag.forward()\n",
    "    prediction = ag.out.output\n",
    "    print(\"Initial prediction is\", prediction)\n",
    "    \n",
    "    ag.backward(1)\n",
    "    print('w1:', ag.n1.get_weights())\n",
    "    print('w2:', ag.n2.get_weights())\n",
    "    print('w3:', ag.n3.get_weights())\n",
    "    print('w4, w5:', ag.n4.get_weights())\n",
    "    \n",
    "    # Example network\n",
    "    #sg = SampleGraph(2, 2, 2, 1)\n",
    "    #prediction = sg.forward()\n",
    "    #print(\"Initial prediction is\", prediction)\n",
    "    #sg.backward(1)\n",
    "    #print(\"w has new value\", sg.w.output)\n",
    "    #print(\"b has new value\", sg.b.output)\n",
    "\n",
    "    # Run your network here"
   ]
  },
  {
   "cell_type": "markdown",
   "metadata": {},
   "source": [
    "## Training Deep Models (3 points)\n",
    "\n",
    "The model in the example code below performs poorly as its depth increases. Train this model on the MNIST digit detection task. \n",
    "\n",
    "Examine its training performance by gradually increasing its depth:\n",
    "- Set the depth to 1 hidden layer\n",
    "- Set the depth to 2 hidden layers\n",
    "- Set the depth to 3 hidden layers\n",
    "\n",
    "Modify the model such that you improve its performance when its depth increases. Train the new model again for the different depths:\n",
    "- Set the depth to 1 hidden layer\n",
    "- Set the depth to 2 hidden layers\n",
    "- Set the depth to 3 hidden layers\n",
    "\n",
    "Submit an explanation for the limitation of the original model. Explain your modification. \n",
    "Submit your code and 6 plots (can be overlaid) for the training performance of both models with different depths. \n",
    "\n"
   ]
  },
  {
   "cell_type": "code",
   "execution_count": 35,
   "metadata": {},
   "outputs": [
    {
     "name": "stderr",
     "output_type": "stream",
     "text": [
      "Using TensorFlow backend.\n"
     ]
    },
    {
     "ename": "ModuleNotFoundError",
     "evalue": "No module named 'tensorflow'",
     "output_type": "error",
     "traceback": [
      "\u001b[1;31m---------------------------------------------------------------------------\u001b[0m",
      "\u001b[1;31mModuleNotFoundError\u001b[0m                       Traceback (most recent call last)",
      "\u001b[1;32m<ipython-input-35-76b6f9506349>\u001b[0m in \u001b[0;36m<module>\u001b[1;34m()\u001b[0m\n\u001b[0;32m      4\u001b[0m \u001b[0mnp\u001b[0m\u001b[1;33m.\u001b[0m\u001b[0mrandom\u001b[0m\u001b[1;33m.\u001b[0m\u001b[0mseed\u001b[0m\u001b[1;33m(\u001b[0m\u001b[1;36m1234\u001b[0m\u001b[1;33m)\u001b[0m\u001b[1;33m\u001b[0m\u001b[0m\n\u001b[0;32m      5\u001b[0m \u001b[1;33m\u001b[0m\u001b[0m\n\u001b[1;32m----> 6\u001b[1;33m \u001b[1;32mfrom\u001b[0m \u001b[0mkeras\u001b[0m\u001b[1;33m.\u001b[0m\u001b[0mdatasets\u001b[0m \u001b[1;32mimport\u001b[0m \u001b[0mmnist\u001b[0m\u001b[1;33m\u001b[0m\u001b[0m\n\u001b[0m\u001b[0;32m      7\u001b[0m \u001b[1;32mfrom\u001b[0m \u001b[0mkeras\u001b[0m\u001b[1;33m.\u001b[0m\u001b[0mmodels\u001b[0m \u001b[1;32mimport\u001b[0m \u001b[0mSequential\u001b[0m\u001b[1;33m\u001b[0m\u001b[0m\n\u001b[0;32m      8\u001b[0m \u001b[1;32mfrom\u001b[0m \u001b[0mkeras\u001b[0m\u001b[1;33m.\u001b[0m\u001b[0mlayers\u001b[0m\u001b[1;33m.\u001b[0m\u001b[0mcore\u001b[0m \u001b[1;32mimport\u001b[0m \u001b[0mDense\u001b[0m\u001b[1;33m,\u001b[0m \u001b[0mDropout\u001b[0m\u001b[1;33m,\u001b[0m \u001b[0mActivation\u001b[0m\u001b[1;33m\u001b[0m\u001b[0m\n",
      "\u001b[1;32mC:\\Program Files (x86)\\Microsoft Visual Studio\\Shared\\Anaconda3_64\\lib\\site-packages\\keras\\__init__.py\u001b[0m in \u001b[0;36m<module>\u001b[1;34m()\u001b[0m\n\u001b[0;32m      1\u001b[0m \u001b[1;32mfrom\u001b[0m \u001b[0m__future__\u001b[0m \u001b[1;32mimport\u001b[0m \u001b[0mabsolute_import\u001b[0m\u001b[1;33m\u001b[0m\u001b[0m\n\u001b[0;32m      2\u001b[0m \u001b[1;33m\u001b[0m\u001b[0m\n\u001b[1;32m----> 3\u001b[1;33m \u001b[1;32mfrom\u001b[0m \u001b[1;33m.\u001b[0m \u001b[1;32mimport\u001b[0m \u001b[0mutils\u001b[0m\u001b[1;33m\u001b[0m\u001b[0m\n\u001b[0m\u001b[0;32m      4\u001b[0m \u001b[1;32mfrom\u001b[0m \u001b[1;33m.\u001b[0m \u001b[1;32mimport\u001b[0m \u001b[0mactivations\u001b[0m\u001b[1;33m\u001b[0m\u001b[0m\n\u001b[0;32m      5\u001b[0m \u001b[1;32mfrom\u001b[0m \u001b[1;33m.\u001b[0m \u001b[1;32mimport\u001b[0m \u001b[0mapplications\u001b[0m\u001b[1;33m\u001b[0m\u001b[0m\n",
      "\u001b[1;32mC:\\Program Files (x86)\\Microsoft Visual Studio\\Shared\\Anaconda3_64\\lib\\site-packages\\keras\\utils\\__init__.py\u001b[0m in \u001b[0;36m<module>\u001b[1;34m()\u001b[0m\n\u001b[0;32m      4\u001b[0m \u001b[1;32mfrom\u001b[0m \u001b[1;33m.\u001b[0m \u001b[1;32mimport\u001b[0m \u001b[0mdata_utils\u001b[0m\u001b[1;33m\u001b[0m\u001b[0m\n\u001b[0;32m      5\u001b[0m \u001b[1;32mfrom\u001b[0m \u001b[1;33m.\u001b[0m \u001b[1;32mimport\u001b[0m \u001b[0mio_utils\u001b[0m\u001b[1;33m\u001b[0m\u001b[0m\n\u001b[1;32m----> 6\u001b[1;33m \u001b[1;32mfrom\u001b[0m \u001b[1;33m.\u001b[0m \u001b[1;32mimport\u001b[0m \u001b[0mconv_utils\u001b[0m\u001b[1;33m\u001b[0m\u001b[0m\n\u001b[0m\u001b[0;32m      7\u001b[0m \u001b[1;33m\u001b[0m\u001b[0m\n\u001b[0;32m      8\u001b[0m \u001b[1;31m# Globally-importable utils.\u001b[0m\u001b[1;33m\u001b[0m\u001b[1;33m\u001b[0m\u001b[0m\n",
      "\u001b[1;32mC:\\Program Files (x86)\\Microsoft Visual Studio\\Shared\\Anaconda3_64\\lib\\site-packages\\keras\\utils\\conv_utils.py\u001b[0m in \u001b[0;36m<module>\u001b[1;34m()\u001b[0m\n\u001b[0;32m      7\u001b[0m \u001b[1;32mfrom\u001b[0m \u001b[0msix\u001b[0m\u001b[1;33m.\u001b[0m\u001b[0mmoves\u001b[0m \u001b[1;32mimport\u001b[0m \u001b[0mrange\u001b[0m\u001b[1;33m\u001b[0m\u001b[0m\n\u001b[0;32m      8\u001b[0m \u001b[1;32mimport\u001b[0m \u001b[0mnumpy\u001b[0m \u001b[1;32mas\u001b[0m \u001b[0mnp\u001b[0m\u001b[1;33m\u001b[0m\u001b[0m\n\u001b[1;32m----> 9\u001b[1;33m \u001b[1;32mfrom\u001b[0m \u001b[1;33m.\u001b[0m\u001b[1;33m.\u001b[0m \u001b[1;32mimport\u001b[0m \u001b[0mbackend\u001b[0m \u001b[1;32mas\u001b[0m \u001b[0mK\u001b[0m\u001b[1;33m\u001b[0m\u001b[0m\n\u001b[0m\u001b[0;32m     10\u001b[0m \u001b[1;33m\u001b[0m\u001b[0m\n\u001b[0;32m     11\u001b[0m \u001b[1;33m\u001b[0m\u001b[0m\n",
      "\u001b[1;32mC:\\Program Files (x86)\\Microsoft Visual Studio\\Shared\\Anaconda3_64\\lib\\site-packages\\keras\\backend\\__init__.py\u001b[0m in \u001b[0;36m<module>\u001b[1;34m()\u001b[0m\n\u001b[0;32m     82\u001b[0m \u001b[1;32melif\u001b[0m \u001b[0m_BACKEND\u001b[0m \u001b[1;33m==\u001b[0m \u001b[1;34m'tensorflow'\u001b[0m\u001b[1;33m:\u001b[0m\u001b[1;33m\u001b[0m\u001b[0m\n\u001b[0;32m     83\u001b[0m     \u001b[0msys\u001b[0m\u001b[1;33m.\u001b[0m\u001b[0mstderr\u001b[0m\u001b[1;33m.\u001b[0m\u001b[0mwrite\u001b[0m\u001b[1;33m(\u001b[0m\u001b[1;34m'Using TensorFlow backend.\\n'\u001b[0m\u001b[1;33m)\u001b[0m\u001b[1;33m\u001b[0m\u001b[0m\n\u001b[1;32m---> 84\u001b[1;33m     \u001b[1;32mfrom\u001b[0m \u001b[1;33m.\u001b[0m\u001b[0mtensorflow_backend\u001b[0m \u001b[1;32mimport\u001b[0m \u001b[1;33m*\u001b[0m\u001b[1;33m\u001b[0m\u001b[0m\n\u001b[0m\u001b[0;32m     85\u001b[0m \u001b[1;32melse\u001b[0m\u001b[1;33m:\u001b[0m\u001b[1;33m\u001b[0m\u001b[0m\n\u001b[0;32m     86\u001b[0m     \u001b[1;32mraise\u001b[0m \u001b[0mValueError\u001b[0m\u001b[1;33m(\u001b[0m\u001b[1;34m'Unknown backend: '\u001b[0m \u001b[1;33m+\u001b[0m \u001b[0mstr\u001b[0m\u001b[1;33m(\u001b[0m\u001b[0m_BACKEND\u001b[0m\u001b[1;33m)\u001b[0m\u001b[1;33m)\u001b[0m\u001b[1;33m\u001b[0m\u001b[0m\n",
      "\u001b[1;32mC:\\Program Files (x86)\\Microsoft Visual Studio\\Shared\\Anaconda3_64\\lib\\site-packages\\keras\\backend\\tensorflow_backend.py\u001b[0m in \u001b[0;36m<module>\u001b[1;34m()\u001b[0m\n\u001b[0;32m      3\u001b[0m \u001b[1;32mfrom\u001b[0m \u001b[0m__future__\u001b[0m \u001b[1;32mimport\u001b[0m \u001b[0mprint_function\u001b[0m\u001b[1;33m\u001b[0m\u001b[0m\n\u001b[0;32m      4\u001b[0m \u001b[1;33m\u001b[0m\u001b[0m\n\u001b[1;32m----> 5\u001b[1;33m \u001b[1;32mimport\u001b[0m \u001b[0mtensorflow\u001b[0m \u001b[1;32mas\u001b[0m \u001b[0mtf\u001b[0m\u001b[1;33m\u001b[0m\u001b[0m\n\u001b[0m\u001b[0;32m      6\u001b[0m \u001b[1;32mfrom\u001b[0m \u001b[0mtensorflow\u001b[0m\u001b[1;33m.\u001b[0m\u001b[0mpython\u001b[0m\u001b[1;33m.\u001b[0m\u001b[0mtraining\u001b[0m \u001b[1;32mimport\u001b[0m \u001b[0mmoving_averages\u001b[0m\u001b[1;33m\u001b[0m\u001b[0m\n\u001b[0;32m      7\u001b[0m \u001b[1;32mfrom\u001b[0m \u001b[0mtensorflow\u001b[0m\u001b[1;33m.\u001b[0m\u001b[0mpython\u001b[0m\u001b[1;33m.\u001b[0m\u001b[0mops\u001b[0m \u001b[1;32mimport\u001b[0m \u001b[0mtensor_array_ops\u001b[0m\u001b[1;33m\u001b[0m\u001b[0m\n",
      "\u001b[1;31mModuleNotFoundError\u001b[0m: No module named 'tensorflow'"
     ]
    }
   ],
   "source": [
    "# (You don't need to change this part of the code)\n",
    "from __future__ import print_function\n",
    "import numpy as np\n",
    "np.random.seed(1234)\n",
    "\n",
    "from keras.datasets import mnist\n",
    "from keras.models import Sequential\n",
    "from keras.layers.core import Dense, Dropout, Activation\n",
    "from keras.optimizers import SGD\n",
    "from keras.utils import np_utils\n",
    "\n",
    "\n",
    "import matplotlib.pyplot as plt\n",
    "\n",
    "batch_size = 128\n",
    "nb_classes = 10\n",
    "nb_epoch = 10"
   ]
  },
  {
   "cell_type": "code",
   "execution_count": null,
   "metadata": {
    "collapsed": true
   },
   "outputs": [],
   "source": [
    "# (You don't need to change this part of the code)\n",
    "# the data, shuffled and split between train and test sets\n",
    "(X_train, y_train), (X_test, y_test) = mnist.load_data()\n",
    "\n",
    "X_train = X_train.reshape(60000, 784)\n",
    "X_test = X_test.reshape(10000, 784)\n",
    "\n",
    "X_train = X_train.astype('float32')\n",
    "X_test = X_test.astype('float32')\n",
    "X_train /= 255\n",
    "X_test /= 255\n",
    "print(X_train.shape[0], 'train samples')\n",
    "print(X_test.shape[0], 'test samples')\n",
    "\n",
    "# convert class vectors to binary class matrices\n",
    "Y_train = np_utils.to_categorical(y_train, nb_classes)\n",
    "Y_test = np_utils.to_categorical(y_test, nb_classes)"
   ]
  },
  {
   "cell_type": "code",
   "execution_count": null,
   "metadata": {
    "collapsed": true
   },
   "outputs": [],
   "source": [
    "# Use this parameter to change the depth of the model\n",
    "number_hidden_layers = 1  # Number of hidden layers"
   ]
  },
  {
   "cell_type": "code",
   "execution_count": null,
   "metadata": {
    "collapsed": true
   },
   "outputs": [],
   "source": [
    "# Model\n",
    "model = Sequential()\n",
    "model.add(Dense(512, input_shape=(784,), activation='sigmoid'))\n",
    "model.add(Dropout(0.2))\n",
    "\n",
    "while number_hidden_layers > 1:\n",
    "    model.add(Dense(512))\n",
    "    model.add(Activation('sigmoid'))\n",
    "    model.add(Dropout(0.2))\n",
    "    number_hidden_layers -= 1\n",
    "\n",
    "\n",
    "model.add(Dense(10))\n",
    "model.add(Activation('softmax'))\n",
    "\n",
    "model.summary()\n",
    "\n",
    "model.compile(loss='categorical_crossentropy',\n",
    "              optimizer=SGD(),\n",
    "              metrics=['accuracy'])\n"
   ]
  },
  {
   "cell_type": "code",
   "execution_count": null,
   "metadata": {
    "collapsed": true
   },
   "outputs": [],
   "source": [
    "# Training (You don't need to change this part of the code)\n",
    "history = model.fit(X_train, Y_train,\n",
    "                    batch_size=batch_size, nb_epoch=nb_epoch,\n",
    "                    verbose=1, validation_data=(X_test, Y_test))\n",
    "score = model.evaluate(X_test, Y_test, verbose=0)\n",
    "print('Test score:', score[0])\n",
    "print('Test accuracy:', score[1])\n",
    "\n",
    "# list all data in history\n",
    "print(history.history.keys())\n",
    "# summarize history for accuracy\n",
    "plt.plot(history.history['acc'])\n",
    "plt.plot(history.history['val_acc'])\n",
    "plt.title('model accuracy')\n",
    "plt.ylabel('accuracy')\n",
    "plt.xlabel('epoch')\n",
    "plt.legend(['train', 'test'], loc='upper left')\n",
    "plt.show()"
   ]
  },
  {
   "cell_type": "markdown",
   "metadata": {
    "collapsed": true
   },
   "source": [
    "## MNIST Calculator (6 points)\n",
    "\n",
    "During the lectures you have seen a CNN model that can be successfully trained to classify the MNIST images. You have also seen how a RNN model that can be trained to implement addition of two numbers. You now need to build a model that is a combination of convolutional layers and recurrent cells. \n",
    "\n",
    "Using the KERAS library, design and train a model that produces a sum of a sequence of MNIST images. More specifically, the model should input a sequence of 10 images and compute the cumulative sum of the digits represented by the images.\n",
    "\n",
    "For example:\n",
    "\n",
    "Input 1: ![294](images/a3ex1.png)\n",
    "\n",
    "Output 1: 46\n",
    "\n",
    "Input 2: ![61](images/a3ex2.png)\n",
    "\n",
    "Output 2: 43\n",
    "\n",
    "Your solutions should include:\n",
    "- Python code that formats the MNIST dataset such that it can be used for traning and testing your model\n",
    "- Implementation in keras of your model (for training and testing)\n",
    "- Performance on the model on test data\n",
    "- Justification (in text) of your decisions for the model architecture (type of layers, activation functions, loss function, regularization and training hyperparameters)\n",
    "\n",
    "Note: Use the 60000/10000 train/test split of the MNIST dataset\n"
   ]
  },
  {
   "cell_type": "code",
   "execution_count": 7,
   "metadata": {
    "collapsed": true
   },
   "outputs": [],
   "source": [
    "# Provide your solution here"
   ]
  },
  {
   "cell_type": "markdown",
   "metadata": {},
   "source": [
    "##### Provide your justification here"
   ]
  }
 ],
 "metadata": {
  "anaconda-cloud": {},
  "kernelspec": {
   "display_name": "Python 3",
   "language": "python",
   "name": "python3"
  },
  "language_info": {
   "codemirror_mode": {
    "name": "ipython",
    "version": 3
   },
   "file_extension": ".py",
   "mimetype": "text/x-python",
   "name": "python",
   "nbconvert_exporter": "python",
   "pygments_lexer": "ipython3",
   "version": "3.6.2"
  }
 },
 "nbformat": 4,
 "nbformat_minor": 1
}
